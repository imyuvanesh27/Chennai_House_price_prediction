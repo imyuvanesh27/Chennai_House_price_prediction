{
 "cells": [
  {
   "cell_type": "markdown",
   "id": "4418f5ff",
   "metadata": {},
   "source": [
    "# Importing the data"
   ]
  },
  {
   "cell_type": "code",
   "execution_count": 1,
   "id": "7058eea3",
   "metadata": {},
   "outputs": [
    {
     "data": {
      "text/html": [
       "<div>\n",
       "<style scoped>\n",
       "    .dataframe tbody tr th:only-of-type {\n",
       "        vertical-align: middle;\n",
       "    }\n",
       "\n",
       "    .dataframe tbody tr th {\n",
       "        vertical-align: top;\n",
       "    }\n",
       "\n",
       "    .dataframe thead th {\n",
       "        text-align: right;\n",
       "    }\n",
       "</style>\n",
       "<table border=\"1\" class=\"dataframe\">\n",
       "  <thead>\n",
       "    <tr style=\"text-align: right;\">\n",
       "      <th></th>\n",
       "      <th>PRT_ID</th>\n",
       "      <th>AREA</th>\n",
       "      <th>INT_SQFT</th>\n",
       "      <th>DATE_SALE</th>\n",
       "      <th>DIST_MAINROAD</th>\n",
       "      <th>N_BEDROOM</th>\n",
       "      <th>N_BATHROOM</th>\n",
       "      <th>N_ROOM</th>\n",
       "      <th>SALE_COND</th>\n",
       "      <th>PARK_FACIL</th>\n",
       "      <th>...</th>\n",
       "      <th>UTILITY_AVAIL</th>\n",
       "      <th>STREET</th>\n",
       "      <th>MZZONE</th>\n",
       "      <th>QS_ROOMS</th>\n",
       "      <th>QS_BATHROOM</th>\n",
       "      <th>QS_BEDROOM</th>\n",
       "      <th>QS_OVERALL</th>\n",
       "      <th>REG_FEE</th>\n",
       "      <th>COMMIS</th>\n",
       "      <th>SALES_PRICE</th>\n",
       "    </tr>\n",
       "  </thead>\n",
       "  <tbody>\n",
       "    <tr>\n",
       "      <th>0</th>\n",
       "      <td>P03210</td>\n",
       "      <td>Karapakkam</td>\n",
       "      <td>1004</td>\n",
       "      <td>04-05-2011</td>\n",
       "      <td>131</td>\n",
       "      <td>1.0</td>\n",
       "      <td>1.0</td>\n",
       "      <td>3</td>\n",
       "      <td>AbNormal</td>\n",
       "      <td>Yes</td>\n",
       "      <td>...</td>\n",
       "      <td>AllPub</td>\n",
       "      <td>Paved</td>\n",
       "      <td>A</td>\n",
       "      <td>4.0</td>\n",
       "      <td>3.9</td>\n",
       "      <td>4.9</td>\n",
       "      <td>4.330</td>\n",
       "      <td>380000</td>\n",
       "      <td>144400</td>\n",
       "      <td>7600000</td>\n",
       "    </tr>\n",
       "    <tr>\n",
       "      <th>1</th>\n",
       "      <td>P09411</td>\n",
       "      <td>Anna Nagar</td>\n",
       "      <td>1986</td>\n",
       "      <td>19-12-2006</td>\n",
       "      <td>26</td>\n",
       "      <td>2.0</td>\n",
       "      <td>1.0</td>\n",
       "      <td>5</td>\n",
       "      <td>AbNormal</td>\n",
       "      <td>No</td>\n",
       "      <td>...</td>\n",
       "      <td>AllPub</td>\n",
       "      <td>Gravel</td>\n",
       "      <td>RH</td>\n",
       "      <td>4.9</td>\n",
       "      <td>4.2</td>\n",
       "      <td>2.5</td>\n",
       "      <td>3.765</td>\n",
       "      <td>760122</td>\n",
       "      <td>304049</td>\n",
       "      <td>21717770</td>\n",
       "    </tr>\n",
       "    <tr>\n",
       "      <th>2</th>\n",
       "      <td>P01812</td>\n",
       "      <td>Adyar</td>\n",
       "      <td>909</td>\n",
       "      <td>04-02-2012</td>\n",
       "      <td>70</td>\n",
       "      <td>1.0</td>\n",
       "      <td>1.0</td>\n",
       "      <td>3</td>\n",
       "      <td>AbNormal</td>\n",
       "      <td>Yes</td>\n",
       "      <td>...</td>\n",
       "      <td>ELO</td>\n",
       "      <td>Gravel</td>\n",
       "      <td>RL</td>\n",
       "      <td>4.1</td>\n",
       "      <td>3.8</td>\n",
       "      <td>2.2</td>\n",
       "      <td>3.090</td>\n",
       "      <td>421094</td>\n",
       "      <td>92114</td>\n",
       "      <td>13159200</td>\n",
       "    </tr>\n",
       "    <tr>\n",
       "      <th>3</th>\n",
       "      <td>P05346</td>\n",
       "      <td>Velachery</td>\n",
       "      <td>1855</td>\n",
       "      <td>13-03-2010</td>\n",
       "      <td>14</td>\n",
       "      <td>3.0</td>\n",
       "      <td>2.0</td>\n",
       "      <td>5</td>\n",
       "      <td>Family</td>\n",
       "      <td>No</td>\n",
       "      <td>...</td>\n",
       "      <td>NoSewr</td>\n",
       "      <td>Paved</td>\n",
       "      <td>I</td>\n",
       "      <td>4.7</td>\n",
       "      <td>3.9</td>\n",
       "      <td>3.6</td>\n",
       "      <td>4.010</td>\n",
       "      <td>356321</td>\n",
       "      <td>77042</td>\n",
       "      <td>9630290</td>\n",
       "    </tr>\n",
       "    <tr>\n",
       "      <th>4</th>\n",
       "      <td>P06210</td>\n",
       "      <td>Karapakkam</td>\n",
       "      <td>1226</td>\n",
       "      <td>05-10-2009</td>\n",
       "      <td>84</td>\n",
       "      <td>1.0</td>\n",
       "      <td>1.0</td>\n",
       "      <td>3</td>\n",
       "      <td>AbNormal</td>\n",
       "      <td>Yes</td>\n",
       "      <td>...</td>\n",
       "      <td>AllPub</td>\n",
       "      <td>Gravel</td>\n",
       "      <td>C</td>\n",
       "      <td>3.0</td>\n",
       "      <td>2.5</td>\n",
       "      <td>4.1</td>\n",
       "      <td>3.290</td>\n",
       "      <td>237000</td>\n",
       "      <td>74063</td>\n",
       "      <td>7406250</td>\n",
       "    </tr>\n",
       "  </tbody>\n",
       "</table>\n",
       "<p>5 rows × 22 columns</p>\n",
       "</div>"
      ],
      "text/plain": [
       "   PRT_ID        AREA  INT_SQFT   DATE_SALE  DIST_MAINROAD  N_BEDROOM  \\\n",
       "0  P03210  Karapakkam      1004  04-05-2011            131        1.0   \n",
       "1  P09411  Anna Nagar      1986  19-12-2006             26        2.0   \n",
       "2  P01812       Adyar       909  04-02-2012             70        1.0   \n",
       "3  P05346   Velachery      1855  13-03-2010             14        3.0   \n",
       "4  P06210  Karapakkam      1226  05-10-2009             84        1.0   \n",
       "\n",
       "   N_BATHROOM  N_ROOM SALE_COND PARK_FACIL  ... UTILITY_AVAIL  STREET MZZONE  \\\n",
       "0         1.0       3  AbNormal        Yes  ...        AllPub   Paved      A   \n",
       "1         1.0       5  AbNormal         No  ...        AllPub  Gravel     RH   \n",
       "2         1.0       3  AbNormal        Yes  ...           ELO  Gravel     RL   \n",
       "3         2.0       5    Family         No  ...       NoSewr    Paved      I   \n",
       "4         1.0       3  AbNormal        Yes  ...        AllPub  Gravel      C   \n",
       "\n",
       "  QS_ROOMS QS_BATHROOM  QS_BEDROOM  QS_OVERALL  REG_FEE  COMMIS  SALES_PRICE  \n",
       "0      4.0         3.9         4.9       4.330   380000  144400      7600000  \n",
       "1      4.9         4.2         2.5       3.765   760122  304049     21717770  \n",
       "2      4.1         3.8         2.2       3.090   421094   92114     13159200  \n",
       "3      4.7         3.9         3.6       4.010   356321   77042      9630290  \n",
       "4      3.0         2.5         4.1       3.290   237000   74063      7406250  \n",
       "\n",
       "[5 rows x 22 columns]"
      ]
     },
     "execution_count": 1,
     "metadata": {},
     "output_type": "execute_result"
    }
   ],
   "source": [
    "import pandas as pd\n",
    "import numpy as np\n",
    "\n",
    "data=pd.read_csv('Chennai houseing sale.csv')\n",
    "data.head()"
   ]
  },
  {
   "cell_type": "code",
   "execution_count": 2,
   "id": "712876b5",
   "metadata": {},
   "outputs": [
    {
     "data": {
      "text/plain": [
       "(7109, 22)"
      ]
     },
     "execution_count": 2,
     "metadata": {},
     "output_type": "execute_result"
    }
   ],
   "source": [
    "data.shape"
   ]
  },
  {
   "cell_type": "code",
   "execution_count": 3,
   "id": "9e128fd4",
   "metadata": {},
   "outputs": [
    {
     "data": {
      "text/plain": [
       "Index(['PRT_ID', 'AREA', 'INT_SQFT', 'DATE_SALE', 'DIST_MAINROAD', 'N_BEDROOM',\n",
       "       'N_BATHROOM', 'N_ROOM', 'SALE_COND', 'PARK_FACIL', 'DATE_BUILD',\n",
       "       'BUILDTYPE', 'UTILITY_AVAIL', 'STREET', 'MZZONE', 'QS_ROOMS',\n",
       "       'QS_BATHROOM', 'QS_BEDROOM', 'QS_OVERALL', 'REG_FEE', 'COMMIS',\n",
       "       'SALES_PRICE'],\n",
       "      dtype='object')"
      ]
     },
     "execution_count": 3,
     "metadata": {},
     "output_type": "execute_result"
    }
   ],
   "source": [
    "data.columns"
   ]
  },
  {
   "cell_type": "code",
   "execution_count": 4,
   "id": "19f98346",
   "metadata": {},
   "outputs": [],
   "source": [
    "def index_column(d):\n",
    "    for i in range(d.shape[1]):\n",
    "        print(i,' ',d.columns[i])"
   ]
  },
  {
   "cell_type": "code",
   "execution_count": 5,
   "id": "8914aabf",
   "metadata": {},
   "outputs": [
    {
     "name": "stdout",
     "output_type": "stream",
     "text": [
      "0   PRT_ID\n",
      "1   AREA\n",
      "2   INT_SQFT\n",
      "3   DATE_SALE\n",
      "4   DIST_MAINROAD\n",
      "5   N_BEDROOM\n",
      "6   N_BATHROOM\n",
      "7   N_ROOM\n",
      "8   SALE_COND\n",
      "9   PARK_FACIL\n",
      "10   DATE_BUILD\n",
      "11   BUILDTYPE\n",
      "12   UTILITY_AVAIL\n",
      "13   STREET\n",
      "14   MZZONE\n",
      "15   QS_ROOMS\n",
      "16   QS_BATHROOM\n",
      "17   QS_BEDROOM\n",
      "18   QS_OVERALL\n",
      "19   REG_FEE\n",
      "20   COMMIS\n",
      "21   SALES_PRICE\n"
     ]
    }
   ],
   "source": [
    "index_column(data)"
   ]
  },
  {
   "cell_type": "code",
   "execution_count": 6,
   "id": "a9cc849d",
   "metadata": {
    "scrolled": true
   },
   "outputs": [
    {
     "data": {
      "text/html": [
       "<div>\n",
       "<style scoped>\n",
       "    .dataframe tbody tr th:only-of-type {\n",
       "        vertical-align: middle;\n",
       "    }\n",
       "\n",
       "    .dataframe tbody tr th {\n",
       "        vertical-align: top;\n",
       "    }\n",
       "\n",
       "    .dataframe thead th {\n",
       "        text-align: right;\n",
       "    }\n",
       "</style>\n",
       "<table border=\"1\" class=\"dataframe\">\n",
       "  <thead>\n",
       "    <tr style=\"text-align: right;\">\n",
       "      <th></th>\n",
       "      <th>AREA</th>\n",
       "      <th>INT_SQFT</th>\n",
       "      <th>DIST_MAINROAD</th>\n",
       "      <th>N_BEDROOM</th>\n",
       "      <th>N_BATHROOM</th>\n",
       "      <th>PARK_FACIL</th>\n",
       "      <th>BUILDTYPE</th>\n",
       "      <th>STREET</th>\n",
       "      <th>SALES_PRICE</th>\n",
       "    </tr>\n",
       "  </thead>\n",
       "  <tbody>\n",
       "    <tr>\n",
       "      <th>0</th>\n",
       "      <td>Karapakkam</td>\n",
       "      <td>1004</td>\n",
       "      <td>131</td>\n",
       "      <td>1.0</td>\n",
       "      <td>1.0</td>\n",
       "      <td>Yes</td>\n",
       "      <td>Commercial</td>\n",
       "      <td>Paved</td>\n",
       "      <td>7600000</td>\n",
       "    </tr>\n",
       "    <tr>\n",
       "      <th>1</th>\n",
       "      <td>Anna Nagar</td>\n",
       "      <td>1986</td>\n",
       "      <td>26</td>\n",
       "      <td>2.0</td>\n",
       "      <td>1.0</td>\n",
       "      <td>No</td>\n",
       "      <td>Commercial</td>\n",
       "      <td>Gravel</td>\n",
       "      <td>21717770</td>\n",
       "    </tr>\n",
       "    <tr>\n",
       "      <th>2</th>\n",
       "      <td>Adyar</td>\n",
       "      <td>909</td>\n",
       "      <td>70</td>\n",
       "      <td>1.0</td>\n",
       "      <td>1.0</td>\n",
       "      <td>Yes</td>\n",
       "      <td>Commercial</td>\n",
       "      <td>Gravel</td>\n",
       "      <td>13159200</td>\n",
       "    </tr>\n",
       "    <tr>\n",
       "      <th>3</th>\n",
       "      <td>Velachery</td>\n",
       "      <td>1855</td>\n",
       "      <td>14</td>\n",
       "      <td>3.0</td>\n",
       "      <td>2.0</td>\n",
       "      <td>No</td>\n",
       "      <td>Others</td>\n",
       "      <td>Paved</td>\n",
       "      <td>9630290</td>\n",
       "    </tr>\n",
       "    <tr>\n",
       "      <th>4</th>\n",
       "      <td>Karapakkam</td>\n",
       "      <td>1226</td>\n",
       "      <td>84</td>\n",
       "      <td>1.0</td>\n",
       "      <td>1.0</td>\n",
       "      <td>Yes</td>\n",
       "      <td>Others</td>\n",
       "      <td>Gravel</td>\n",
       "      <td>7406250</td>\n",
       "    </tr>\n",
       "  </tbody>\n",
       "</table>\n",
       "</div>"
      ],
      "text/plain": [
       "         AREA  INT_SQFT  DIST_MAINROAD  N_BEDROOM  N_BATHROOM PARK_FACIL  \\\n",
       "0  Karapakkam      1004            131        1.0         1.0        Yes   \n",
       "1  Anna Nagar      1986             26        2.0         1.0         No   \n",
       "2       Adyar       909             70        1.0         1.0        Yes   \n",
       "3   Velachery      1855             14        3.0         2.0         No   \n",
       "4  Karapakkam      1226             84        1.0         1.0        Yes   \n",
       "\n",
       "    BUILDTYPE  STREET  SALES_PRICE  \n",
       "0  Commercial   Paved      7600000  \n",
       "1  Commercial  Gravel     21717770  \n",
       "2  Commercial  Gravel     13159200  \n",
       "3      Others   Paved      9630290  \n",
       "4      Others  Gravel      7406250  "
      ]
     },
     "execution_count": 6,
     "metadata": {},
     "output_type": "execute_result"
    }
   ],
   "source": [
    "data=data.iloc[:,[1,2,4,5,6,9,11,13,21]]\n",
    "data.head()"
   ]
  },
  {
   "cell_type": "code",
   "execution_count": 7,
   "id": "f075175f",
   "metadata": {},
   "outputs": [
    {
     "name": "stdout",
     "output_type": "stream",
     "text": [
      "0   AREA\n",
      "1   INT_SQFT\n",
      "2   DIST_MAINROAD\n",
      "3   N_BEDROOM\n",
      "4   N_BATHROOM\n",
      "5   PARK_FACIL\n",
      "6   BUILDTYPE\n",
      "7   STREET\n",
      "8   SALES_PRICE\n"
     ]
    }
   ],
   "source": [
    "index_column(data)"
   ]
  },
  {
   "cell_type": "markdown",
   "id": "a41185a0",
   "metadata": {},
   "source": [
    "# Data cleaning"
   ]
  },
  {
   "cell_type": "markdown",
   "id": "820f934c",
   "metadata": {},
   "source": [
    "## 1.) Null values"
   ]
  },
  {
   "cell_type": "code",
   "execution_count": 8,
   "id": "693c42c5",
   "metadata": {},
   "outputs": [
    {
     "data": {
      "text/plain": [
       "(7109, 9)"
      ]
     },
     "execution_count": 8,
     "metadata": {},
     "output_type": "execute_result"
    }
   ],
   "source": [
    "data.shape"
   ]
  },
  {
   "cell_type": "code",
   "execution_count": 9,
   "id": "d9a4c4ea",
   "metadata": {
    "scrolled": true
   },
   "outputs": [
    {
     "data": {
      "text/plain": [
       "AREA             0\n",
       "INT_SQFT         0\n",
       "DIST_MAINROAD    0\n",
       "N_BEDROOM        1\n",
       "N_BATHROOM       5\n",
       "PARK_FACIL       0\n",
       "BUILDTYPE        0\n",
       "STREET           0\n",
       "SALES_PRICE      0\n",
       "dtype: int64"
      ]
     },
     "execution_count": 9,
     "metadata": {},
     "output_type": "execute_result"
    }
   ],
   "source": [
    "data.isna().sum()"
   ]
  },
  {
   "cell_type": "code",
   "execution_count": 10,
   "id": "4ab159e8",
   "metadata": {},
   "outputs": [
    {
     "data": {
      "text/plain": [
       "(7103, 9)"
      ]
     },
     "execution_count": 10,
     "metadata": {},
     "output_type": "execute_result"
    }
   ],
   "source": [
    "# Removing the rows having null values:\n",
    "data.dropna(inplace=True)\n",
    "data.shape"
   ]
  },
  {
   "cell_type": "markdown",
   "id": "60000aec",
   "metadata": {},
   "source": [
    "## 2.) Column values"
   ]
  },
  {
   "cell_type": "code",
   "execution_count": 11,
   "id": "39384895",
   "metadata": {},
   "outputs": [
    {
     "data": {
      "text/plain": [
       "AREA              object\n",
       "INT_SQFT           int64\n",
       "DIST_MAINROAD      int64\n",
       "N_BEDROOM        float64\n",
       "N_BATHROOM       float64\n",
       "PARK_FACIL        object\n",
       "BUILDTYPE         object\n",
       "STREET            object\n",
       "SALES_PRICE        int64\n",
       "dtype: object"
      ]
     },
     "execution_count": 11,
     "metadata": {},
     "output_type": "execute_result"
    }
   ],
   "source": [
    "data.dtypes"
   ]
  },
  {
   "cell_type": "markdown",
   "id": "7838bbdc",
   "metadata": {},
   "source": [
    "### Column: AREA"
   ]
  },
  {
   "cell_type": "code",
   "execution_count": 12,
   "id": "418c482b",
   "metadata": {
    "scrolled": false
   },
   "outputs": [
    {
     "data": {
      "text/plain": [
       "Chrompet      1679\n",
       "Karapakkam    1363\n",
       "KK Nagar       996\n",
       "Velachery      979\n",
       "Anna Nagar     780\n",
       "Adyar          773\n",
       "T Nagar        496\n",
       "Chrompt          9\n",
       "Chrmpet          6\n",
       "TNagar           5\n",
       "Chormpet         5\n",
       "Karapakam        3\n",
       "Ana Nagar        3\n",
       "Velchery         2\n",
       "Ann Nagar        2\n",
       "Adyr             1\n",
       "KKNagar          1\n",
       "Name: AREA, dtype: int64"
      ]
     },
     "execution_count": 12,
     "metadata": {},
     "output_type": "execute_result"
    }
   ],
   "source": [
    "data['AREA'].value_counts()"
   ]
  },
  {
   "cell_type": "code",
   "execution_count": 13,
   "id": "58818c59",
   "metadata": {},
   "outputs": [],
   "source": [
    "# Replacing the values:\n",
    "\n",
    "data['AREA'].replace({'Chrompt':'Chrompet','Chrmpet':'Chrompet','Chormpet':'Chrompet','Karapakam':'Karapakkam','KKNagar':'KK Nagar','Velchery':'Velachery','Ana Nagar':'Anna Nagar','Ann Nagar':'Anna Nagar','Adyr':'Adyar','TNagar':'T Nagar'},inplace=True)"
   ]
  },
  {
   "cell_type": "code",
   "execution_count": 14,
   "id": "b434bb60",
   "metadata": {},
   "outputs": [
    {
     "data": {
      "text/plain": [
       "Chrompet      1699\n",
       "Karapakkam    1366\n",
       "KK Nagar       997\n",
       "Velachery      981\n",
       "Anna Nagar     785\n",
       "Adyar          774\n",
       "T Nagar        501\n",
       "Name: AREA, dtype: int64"
      ]
     },
     "execution_count": 14,
     "metadata": {},
     "output_type": "execute_result"
    }
   ],
   "source": [
    "data['AREA'].value_counts()"
   ]
  },
  {
   "cell_type": "markdown",
   "id": "273342a7",
   "metadata": {},
   "source": [
    "### Column: N_BEDROOM and N_BATHROOM"
   ]
  },
  {
   "cell_type": "code",
   "execution_count": 15,
   "id": "9073d335",
   "metadata": {},
   "outputs": [],
   "source": [
    "# Changing the data types of those 2 columns\n",
    "\n",
    "data=data.astype({'N_BEDROOM':'int','N_BATHROOM':'int'})"
   ]
  },
  {
   "cell_type": "code",
   "execution_count": 16,
   "id": "12c74432",
   "metadata": {
    "scrolled": true
   },
   "outputs": [
    {
     "data": {
      "text/plain": [
       "AREA             object\n",
       "INT_SQFT          int64\n",
       "DIST_MAINROAD     int64\n",
       "N_BEDROOM         int32\n",
       "N_BATHROOM        int32\n",
       "PARK_FACIL       object\n",
       "BUILDTYPE        object\n",
       "STREET           object\n",
       "SALES_PRICE       int64\n",
       "dtype: object"
      ]
     },
     "execution_count": 16,
     "metadata": {},
     "output_type": "execute_result"
    }
   ],
   "source": [
    "data.dtypes"
   ]
  },
  {
   "cell_type": "markdown",
   "id": "837eece3",
   "metadata": {},
   "source": [
    "### Column: PARK_FACIL"
   ]
  },
  {
   "cell_type": "code",
   "execution_count": 17,
   "id": "f44d4096",
   "metadata": {},
   "outputs": [
    {
     "data": {
      "text/plain": [
       "Yes    3584\n",
       "No     3517\n",
       "Noo       2\n",
       "Name: PARK_FACIL, dtype: int64"
      ]
     },
     "execution_count": 17,
     "metadata": {},
     "output_type": "execute_result"
    }
   ],
   "source": [
    "data['PARK_FACIL'].value_counts()"
   ]
  },
  {
   "cell_type": "code",
   "execution_count": 18,
   "id": "68b7a3c7",
   "metadata": {},
   "outputs": [
    {
     "data": {
      "text/plain": [
       "1    3584\n",
       "0    3519\n",
       "Name: PARK_FACIL, dtype: int64"
      ]
     },
     "execution_count": 18,
     "metadata": {},
     "output_type": "execute_result"
    }
   ],
   "source": [
    "data['PARK_FACIL'].replace({'Yes':1,'No':0,'Noo':0},inplace=True)\n",
    "data['PARK_FACIL'].value_counts()"
   ]
  },
  {
   "cell_type": "code",
   "execution_count": 19,
   "id": "017d0e79",
   "metadata": {},
   "outputs": [
    {
     "data": {
      "text/plain": [
       "AREA             object\n",
       "INT_SQFT          int64\n",
       "DIST_MAINROAD     int64\n",
       "N_BEDROOM         int32\n",
       "N_BATHROOM        int32\n",
       "PARK_FACIL        int64\n",
       "BUILDTYPE        object\n",
       "STREET           object\n",
       "SALES_PRICE       int64\n",
       "dtype: object"
      ]
     },
     "execution_count": 19,
     "metadata": {},
     "output_type": "execute_result"
    }
   ],
   "source": [
    "data.dtypes"
   ]
  },
  {
   "cell_type": "markdown",
   "id": "7f5c1796",
   "metadata": {},
   "source": [
    "### Column: BUILDTYPE"
   ]
  },
  {
   "cell_type": "code",
   "execution_count": 20,
   "id": "ba7538b0",
   "metadata": {},
   "outputs": [
    {
     "data": {
      "text/plain": [
       "House         2443\n",
       "Commercial    2325\n",
       "Others        2305\n",
       "Other           26\n",
       "Comercial        4\n",
       "Name: BUILDTYPE, dtype: int64"
      ]
     },
     "execution_count": 20,
     "metadata": {},
     "output_type": "execute_result"
    }
   ],
   "source": [
    "data['BUILDTYPE'].value_counts()"
   ]
  },
  {
   "cell_type": "code",
   "execution_count": 21,
   "id": "fd45dd65",
   "metadata": {},
   "outputs": [
    {
     "data": {
      "text/plain": [
       "House         2443\n",
       "Others        2331\n",
       "Commercial    2329\n",
       "Name: BUILDTYPE, dtype: int64"
      ]
     },
     "execution_count": 21,
     "metadata": {},
     "output_type": "execute_result"
    }
   ],
   "source": [
    "data['BUILDTYPE'].replace({'Comercial':'Commercial','Other':'Others'},inplace=True)\n",
    "data['BUILDTYPE'].value_counts()"
   ]
  },
  {
   "cell_type": "markdown",
   "id": "227f9627",
   "metadata": {},
   "source": [
    "### Column: STREET"
   ]
  },
  {
   "cell_type": "code",
   "execution_count": 22,
   "id": "a15c777a",
   "metadata": {},
   "outputs": [
    {
     "data": {
      "text/plain": [
       "Paved        2558\n",
       "Gravel       2518\n",
       "No Access    2008\n",
       "Pavd           12\n",
       "NoAccess        7\n",
       "Name: STREET, dtype: int64"
      ]
     },
     "execution_count": 22,
     "metadata": {},
     "output_type": "execute_result"
    }
   ],
   "source": [
    "data['STREET'].value_counts()"
   ]
  },
  {
   "cell_type": "code",
   "execution_count": 23,
   "id": "0bcbf514",
   "metadata": {},
   "outputs": [
    {
     "data": {
      "text/plain": [
       "Paved        2570\n",
       "Gravel       2518\n",
       "No Access    2015\n",
       "Name: STREET, dtype: int64"
      ]
     },
     "execution_count": 23,
     "metadata": {},
     "output_type": "execute_result"
    }
   ],
   "source": [
    "data['STREET'].replace({'Pavd':'Paved','NoAccess':'No Access'},inplace=True)\n",
    "data['STREET'].value_counts()"
   ]
  },
  {
   "cell_type": "code",
   "execution_count": 24,
   "id": "b7492cf8",
   "metadata": {
    "scrolled": true
   },
   "outputs": [
    {
     "data": {
      "text/html": [
       "<div>\n",
       "<style scoped>\n",
       "    .dataframe tbody tr th:only-of-type {\n",
       "        vertical-align: middle;\n",
       "    }\n",
       "\n",
       "    .dataframe tbody tr th {\n",
       "        vertical-align: top;\n",
       "    }\n",
       "\n",
       "    .dataframe thead th {\n",
       "        text-align: right;\n",
       "    }\n",
       "</style>\n",
       "<table border=\"1\" class=\"dataframe\">\n",
       "  <thead>\n",
       "    <tr style=\"text-align: right;\">\n",
       "      <th></th>\n",
       "      <th>AREA</th>\n",
       "      <th>INT_SQFT</th>\n",
       "      <th>DIST_MAINROAD</th>\n",
       "      <th>N_BEDROOM</th>\n",
       "      <th>N_BATHROOM</th>\n",
       "      <th>PARK_FACIL</th>\n",
       "      <th>BUILDTYPE</th>\n",
       "      <th>STREET</th>\n",
       "      <th>SALES_PRICE</th>\n",
       "    </tr>\n",
       "  </thead>\n",
       "  <tbody>\n",
       "    <tr>\n",
       "      <th>0</th>\n",
       "      <td>Karapakkam</td>\n",
       "      <td>1004</td>\n",
       "      <td>131</td>\n",
       "      <td>1</td>\n",
       "      <td>1</td>\n",
       "      <td>1</td>\n",
       "      <td>Commercial</td>\n",
       "      <td>Paved</td>\n",
       "      <td>7600000</td>\n",
       "    </tr>\n",
       "    <tr>\n",
       "      <th>1</th>\n",
       "      <td>Anna Nagar</td>\n",
       "      <td>1986</td>\n",
       "      <td>26</td>\n",
       "      <td>2</td>\n",
       "      <td>1</td>\n",
       "      <td>0</td>\n",
       "      <td>Commercial</td>\n",
       "      <td>Gravel</td>\n",
       "      <td>21717770</td>\n",
       "    </tr>\n",
       "    <tr>\n",
       "      <th>2</th>\n",
       "      <td>Adyar</td>\n",
       "      <td>909</td>\n",
       "      <td>70</td>\n",
       "      <td>1</td>\n",
       "      <td>1</td>\n",
       "      <td>1</td>\n",
       "      <td>Commercial</td>\n",
       "      <td>Gravel</td>\n",
       "      <td>13159200</td>\n",
       "    </tr>\n",
       "    <tr>\n",
       "      <th>3</th>\n",
       "      <td>Velachery</td>\n",
       "      <td>1855</td>\n",
       "      <td>14</td>\n",
       "      <td>3</td>\n",
       "      <td>2</td>\n",
       "      <td>0</td>\n",
       "      <td>Others</td>\n",
       "      <td>Paved</td>\n",
       "      <td>9630290</td>\n",
       "    </tr>\n",
       "    <tr>\n",
       "      <th>4</th>\n",
       "      <td>Karapakkam</td>\n",
       "      <td>1226</td>\n",
       "      <td>84</td>\n",
       "      <td>1</td>\n",
       "      <td>1</td>\n",
       "      <td>1</td>\n",
       "      <td>Others</td>\n",
       "      <td>Gravel</td>\n",
       "      <td>7406250</td>\n",
       "    </tr>\n",
       "  </tbody>\n",
       "</table>\n",
       "</div>"
      ],
      "text/plain": [
       "         AREA  INT_SQFT  DIST_MAINROAD  N_BEDROOM  N_BATHROOM  PARK_FACIL  \\\n",
       "0  Karapakkam      1004            131          1           1           1   \n",
       "1  Anna Nagar      1986             26          2           1           0   \n",
       "2       Adyar       909             70          1           1           1   \n",
       "3   Velachery      1855             14          3           2           0   \n",
       "4  Karapakkam      1226             84          1           1           1   \n",
       "\n",
       "    BUILDTYPE  STREET  SALES_PRICE  \n",
       "0  Commercial   Paved      7600000  \n",
       "1  Commercial  Gravel     21717770  \n",
       "2  Commercial  Gravel     13159200  \n",
       "3      Others   Paved      9630290  \n",
       "4      Others  Gravel      7406250  "
      ]
     },
     "execution_count": 24,
     "metadata": {},
     "output_type": "execute_result"
    }
   ],
   "source": [
    "data.head()"
   ]
  },
  {
   "cell_type": "code",
   "execution_count": 25,
   "id": "aa190e61",
   "metadata": {},
   "outputs": [],
   "source": [
    "data.to_csv('chennai_price.csv')"
   ]
  },
  {
   "cell_type": "markdown",
   "id": "32d6a990",
   "metadata": {},
   "source": [
    "# EDA"
   ]
  },
  {
   "cell_type": "code",
   "execution_count": 26,
   "id": "c2cb9ca2",
   "metadata": {},
   "outputs": [],
   "source": [
    "import matplotlib.pyplot as plt\n",
    "import seaborn as sns"
   ]
  },
  {
   "cell_type": "code",
   "execution_count": 27,
   "id": "97ff34fd",
   "metadata": {},
   "outputs": [
    {
     "data": {
      "image/png": "[encoded data removed]",
      "text/plain": [
       "<Figure size 900x400 with 1 Axes>"
      ]
     },
     "metadata": {},
     "output_type": "display_data"
    }
   ],
   "source": [
    "plt.figure(figsize=(9,4))\n",
    "sns.countplot(x='AREA',data=data)\n",
    "plt.show()"
   ]
  },
  {
   "cell_type": "code",
   "execution_count": 28,
   "id": "7c47efd0",
   "metadata": {
    "scrolled": false
   },
   "outputs": [
    {
     "data": {
      "image/png": "[encoded data removed]",
      "text/plain": [
       "<Figure size 900x400 with 1 Axes>"
      ]
     },
     "metadata": {},
     "output_type": "display_data"
    }
   ],
   "source": [
    "plt.figure(figsize=(9,4))\n",
    "plt.hist(data['DIST_MAINROAD'],bins=50,color='g')\n",
    "plt.xlabel('DIST_MAINROAD')\n",
    "plt.ylabel('frequency')\n",
    "plt.show()"
   ]
  },
  {
   "cell_type": "code",
   "execution_count": 29,
   "id": "433916e0",
   "metadata": {
    "scrolled": false
   },
   "outputs": [
    {
     "name": "stderr",
     "output_type": "stream",
     "text": [
      "C:\\ProgramData\\Anaconda3\\lib\\site-packages\\seaborn\\distributions.py:2619: FutureWarning: `distplot` is a deprecated function and will be removed in a future version. Please adapt your code to use either `displot` (a figure-level function with similar flexibility) or `histplot` (an axes-level function for histograms).\n",
      "  warnings.warn(msg, FutureWarning)\n"
     ]
    },
    {
     "data": {
      "image/png": "[encoded data removed]",
      "text/plain": [
       "<Figure size 900x400 with 1 Axes>"
      ]
     },
     "metadata": {},
     "output_type": "display_data"
    }
   ],
   "source": [
    "plt.figure(figsize=(9,4))\n",
    "sns.distplot(data['INT_SQFT'],bins=50,color='b')\n",
    "plt.show()"
   ]
  },
  {
   "cell_type": "code",
   "execution_count": 30,
   "id": "cfc1d521",
   "metadata": {},
   "outputs": [
    {
     "data": {
      "image/png": "[encoded data removed]",
      "text/plain": [
       "<Figure size 900x400 with 1 Axes>"
      ]
     },
     "metadata": {},
     "output_type": "display_data"
    }
   ],
   "source": [
    "plt.figure(figsize=(9,4))\n",
    "sns.countplot(x='N_BEDROOM',data=data,hue='AREA')\n",
    "plt.show()"
   ]
  },
  {
   "cell_type": "code",
   "execution_count": 31,
   "id": "aabc33e0",
   "metadata": {
    "scrolled": false
   },
   "outputs": [
    {
     "data": {
      "text/plain": [
       "1    3791\n",
       "2    2351\n",
       "3     707\n",
       "4     254\n",
       "Name: N_BEDROOM, dtype: int64"
      ]
     },
     "execution_count": 31,
     "metadata": {},
     "output_type": "execute_result"
    }
   ],
   "source": [
    "data['N_BEDROOM'].value_counts()"
   ]
  },
  {
   "cell_type": "code",
   "execution_count": 32,
   "id": "f131a094",
   "metadata": {},
   "outputs": [
    {
     "data": {
      "image/png": "[encoded data removed]",
      "text/plain": [
       "<Figure size 900x400 with 1 Axes>"
      ]
     },
     "metadata": {},
     "output_type": "display_data"
    }
   ],
   "source": [
    "plt.figure(figsize=(9,4))\n",
    "sns.countplot(x='N_BATHROOM',data=data,hue='AREA')\n",
    "plt.show()"
   ]
  },
  {
   "cell_type": "code",
   "execution_count": 33,
   "id": "64badaf6",
   "metadata": {},
   "outputs": [
    {
     "data": {
      "text/plain": [
       "1    5588\n",
       "2    1515\n",
       "Name: N_BATHROOM, dtype: int64"
      ]
     },
     "execution_count": 33,
     "metadata": {},
     "output_type": "execute_result"
    }
   ],
   "source": [
    "data['N_BATHROOM'].value_counts()"
   ]
  },
  {
   "cell_type": "code",
   "execution_count": 34,
   "id": "fdfbb25c",
   "metadata": {},
   "outputs": [
    {
     "data": {
      "image/png": "[encoded data removed]",
      "text/plain": [
       "<Figure size 900x400 with 1 Axes>"
      ]
     },
     "metadata": {},
     "output_type": "display_data"
    }
   ],
   "source": [
    "plt.figure(figsize=(9,4))\n",
    "sns.countplot(x='PARK_FACIL',data=data,hue='AREA')\n",
    "plt.show()"
   ]
  },
  {
   "cell_type": "code",
   "execution_count": 35,
   "id": "83db1468",
   "metadata": {},
   "outputs": [
    {
     "data": {
      "image/png": "[encoded data removed]",
      "text/plain": [
       "<Figure size 900x400 with 1 Axes>"
      ]
     },
     "metadata": {},
     "output_type": "display_data"
    }
   ],
   "source": [
    "plt.figure(figsize=(9,4))\n",
    "sns.boxplot(x='PARK_FACIL',y='SALES_PRICE',data=data)\n",
    "plt.show()"
   ]
  },
  {
   "cell_type": "code",
   "execution_count": 36,
   "id": "5e04e416",
   "metadata": {},
   "outputs": [
    {
     "data": {
      "image/png": "[encoded data removed]",
      "text/plain": [
       "<Figure size 900x400 with 1 Axes>"
      ]
     },
     "metadata": {},
     "output_type": "display_data"
    }
   ],
   "source": [
    "plt.figure(figsize=(9,4))\n",
    "sns.countplot(x='BUILDTYPE',data=data,hue='AREA')\n",
    "plt.show()"
   ]
  },
  {
   "cell_type": "code",
   "execution_count": 37,
   "id": "5b58128e",
   "metadata": {
    "scrolled": false
   },
   "outputs": [
    {
     "data": {
      "image/png": "[encoded data removed]",
      "text/plain": [
       "<Figure size 900x400 with 1 Axes>"
      ]
     },
     "metadata": {},
     "output_type": "display_data"
    }
   ],
   "source": [
    "plt.figure(figsize=(9,4))\n",
    "sns.boxplot(x='BUILDTYPE',y='SALES_PRICE',data=data)\n",
    "plt.show()"
   ]
  },
  {
   "cell_type": "code",
   "execution_count": 38,
   "id": "09525c70",
   "metadata": {
    "scrolled": false
   },
   "outputs": [
    {
     "data": {
      "image/png": "[encoded data removed]",
      "text/plain": [
       "<Figure size 900x400 with 1 Axes>"
      ]
     },
     "metadata": {},
     "output_type": "display_data"
    }
   ],
   "source": [
    "plt.figure(figsize=(9,4))\n",
    "sns.countplot(x='STREET',data=data,hue='AREA')\n",
    "plt.show()"
   ]
  },
  {
   "cell_type": "code",
   "execution_count": 39,
   "id": "f2563cb0",
   "metadata": {
    "scrolled": false
   },
   "outputs": [
    {
     "data": {
      "image/png": "[encoded data removed]",
      "text/plain": [
       "<Figure size 900x400 with 1 Axes>"
      ]
     },
     "metadata": {},
     "output_type": "display_data"
    }
   ],
   "source": [
    "plt.figure(figsize=(9,4))\n",
    "sns.boxplot(x='STREET',y='SALES_PRICE',data=data)\n",
    "plt.show()"
   ]
  },
  {
   "cell_type": "markdown",
   "id": "a809402b",
   "metadata": {},
   "source": [
    "# Outliers : column: N_BEDROOM"
   ]
  },
  {
   "cell_type": "code",
   "execution_count": 40,
   "id": "75627af4",
   "metadata": {},
   "outputs": [
    {
     "data": {
      "image/png": "[encoded data removed]",
      "text/plain": [
       "<Figure size 640x480 with 1 Axes>"
      ]
     },
     "metadata": {},
     "output_type": "display_data"
    }
   ],
   "source": [
    "# plt.figure(figsize=(9,4))\n",
    "sns.countplot(x='N_BEDROOM',data=data,hue='AREA')\n",
    "plt.show()"
   ]
  },
  {
   "cell_type": "code",
   "execution_count": 41,
   "id": "b179b2f2",
   "metadata": {},
   "outputs": [],
   "source": [
    "def remove(col,df):\n",
    "    df_out=pd.DataFrame()\n",
    " \n",
    "    m=np.mean(col)\n",
    "    st=np.std(col)\n",
    " \n",
    "    reduced_df=df[(col>(m-st))&(col<=(m+st))]\n",
    "    df_out=pd.concat([df_out,reduced_df],ignore_index=True)\n",
    " \n",
    "    return df_out"
   ]
  },
  {
   "cell_type": "code",
   "execution_count": 42,
   "id": "20ae1cef",
   "metadata": {},
   "outputs": [],
   "source": [
    "data=remove(data['N_BEDROOM'],data)"
   ]
  },
  {
   "cell_type": "code",
   "execution_count": 43,
   "id": "15344254",
   "metadata": {},
   "outputs": [
    {
     "data": {
      "image/png": "[encoded data removed]",
      "text/plain": [
       "<Figure size 900x400 with 1 Axes>"
      ]
     },
     "metadata": {},
     "output_type": "display_data"
    }
   ],
   "source": [
    "plt.figure(figsize=(9,4))\n",
    "sns.countplot(x='N_BEDROOM',data=data,hue='AREA')\n",
    "plt.show()"
   ]
  },
  {
   "cell_type": "markdown",
   "id": "33a57a6b",
   "metadata": {},
   "source": [
    "# Data Preparation:"
   ]
  },
  {
   "cell_type": "markdown",
   "id": "538bbe6d",
   "metadata": {},
   "source": [
    "## Column DataTypes"
   ]
  },
  {
   "cell_type": "code",
   "execution_count": 44,
   "id": "ae6d6ced",
   "metadata": {
    "scrolled": true
   },
   "outputs": [
    {
     "data": {
      "text/plain": [
       "AREA             object\n",
       "INT_SQFT          int64\n",
       "DIST_MAINROAD     int64\n",
       "N_BEDROOM         int32\n",
       "N_BATHROOM        int32\n",
       "PARK_FACIL        int64\n",
       "BUILDTYPE        object\n",
       "STREET           object\n",
       "SALES_PRICE       int64\n",
       "dtype: object"
      ]
     },
     "execution_count": 44,
     "metadata": {},
     "output_type": "execute_result"
    }
   ],
   "source": [
    "data.dtypes"
   ]
  },
  {
   "cell_type": "markdown",
   "id": "13a5a80c",
   "metadata": {},
   "source": [
    "### Column: AREA"
   ]
  },
  {
   "cell_type": "code",
   "execution_count": 45,
   "id": "e6f6b5ef",
   "metadata": {},
   "outputs": [
    {
     "data": {
      "text/html": [
       "<div>\n",
       "<style scoped>\n",
       "    .dataframe tbody tr th:only-of-type {\n",
       "        vertical-align: middle;\n",
       "    }\n",
       "\n",
       "    .dataframe tbody tr th {\n",
       "        vertical-align: top;\n",
       "    }\n",
       "\n",
       "    .dataframe thead th {\n",
       "        text-align: right;\n",
       "    }\n",
       "</style>\n",
       "<table border=\"1\" class=\"dataframe\">\n",
       "  <thead>\n",
       "    <tr style=\"text-align: right;\">\n",
       "      <th></th>\n",
       "      <th>Adyar</th>\n",
       "      <th>Anna Nagar</th>\n",
       "      <th>Chrompet</th>\n",
       "      <th>KK Nagar</th>\n",
       "      <th>Karapakkam</th>\n",
       "      <th>T Nagar</th>\n",
       "      <th>Velachery</th>\n",
       "    </tr>\n",
       "  </thead>\n",
       "  <tbody>\n",
       "    <tr>\n",
       "      <th>0</th>\n",
       "      <td>0</td>\n",
       "      <td>0</td>\n",
       "      <td>0</td>\n",
       "      <td>0</td>\n",
       "      <td>1</td>\n",
       "      <td>0</td>\n",
       "      <td>0</td>\n",
       "    </tr>\n",
       "    <tr>\n",
       "      <th>1</th>\n",
       "      <td>0</td>\n",
       "      <td>1</td>\n",
       "      <td>0</td>\n",
       "      <td>0</td>\n",
       "      <td>0</td>\n",
       "      <td>0</td>\n",
       "      <td>0</td>\n",
       "    </tr>\n",
       "    <tr>\n",
       "      <th>2</th>\n",
       "      <td>1</td>\n",
       "      <td>0</td>\n",
       "      <td>0</td>\n",
       "      <td>0</td>\n",
       "      <td>0</td>\n",
       "      <td>0</td>\n",
       "      <td>0</td>\n",
       "    </tr>\n",
       "    <tr>\n",
       "      <th>3</th>\n",
       "      <td>0</td>\n",
       "      <td>0</td>\n",
       "      <td>0</td>\n",
       "      <td>0</td>\n",
       "      <td>1</td>\n",
       "      <td>0</td>\n",
       "      <td>0</td>\n",
       "    </tr>\n",
       "    <tr>\n",
       "      <th>4</th>\n",
       "      <td>0</td>\n",
       "      <td>0</td>\n",
       "      <td>1</td>\n",
       "      <td>0</td>\n",
       "      <td>0</td>\n",
       "      <td>0</td>\n",
       "      <td>0</td>\n",
       "    </tr>\n",
       "  </tbody>\n",
       "</table>\n",
       "</div>"
      ],
      "text/plain": [
       "   Adyar  Anna Nagar  Chrompet  KK Nagar  Karapakkam  T Nagar  Velachery\n",
       "0      0           0         0         0           1        0          0\n",
       "1      0           1         0         0           0        0          0\n",
       "2      1           0         0         0           0        0          0\n",
       "3      0           0         0         0           1        0          0\n",
       "4      0           0         1         0           0        0          0"
      ]
     },
     "execution_count": 45,
     "metadata": {},
     "output_type": "execute_result"
    }
   ],
   "source": [
    "df1=pd.get_dummies(data['AREA'])\n",
    "df1.head()"
   ]
  },
  {
   "cell_type": "markdown",
   "id": "a2cd4ecf",
   "metadata": {},
   "source": [
    "### Column: BUILDTYPE"
   ]
  },
  {
   "cell_type": "code",
   "execution_count": 46,
   "id": "0b721976",
   "metadata": {},
   "outputs": [
    {
     "data": {
      "text/html": [
       "<div>\n",
       "<style scoped>\n",
       "    .dataframe tbody tr th:only-of-type {\n",
       "        vertical-align: middle;\n",
       "    }\n",
       "\n",
       "    .dataframe tbody tr th {\n",
       "        vertical-align: top;\n",
       "    }\n",
       "\n",
       "    .dataframe thead th {\n",
       "        text-align: right;\n",
       "    }\n",
       "</style>\n",
       "<table border=\"1\" class=\"dataframe\">\n",
       "  <thead>\n",
       "    <tr style=\"text-align: right;\">\n",
       "      <th></th>\n",
       "      <th>Commercial</th>\n",
       "      <th>House</th>\n",
       "      <th>Others</th>\n",
       "    </tr>\n",
       "  </thead>\n",
       "  <tbody>\n",
       "    <tr>\n",
       "      <th>0</th>\n",
       "      <td>1</td>\n",
       "      <td>0</td>\n",
       "      <td>0</td>\n",
       "    </tr>\n",
       "    <tr>\n",
       "      <th>1</th>\n",
       "      <td>1</td>\n",
       "      <td>0</td>\n",
       "      <td>0</td>\n",
       "    </tr>\n",
       "    <tr>\n",
       "      <th>2</th>\n",
       "      <td>1</td>\n",
       "      <td>0</td>\n",
       "      <td>0</td>\n",
       "    </tr>\n",
       "    <tr>\n",
       "      <th>3</th>\n",
       "      <td>0</td>\n",
       "      <td>0</td>\n",
       "      <td>1</td>\n",
       "    </tr>\n",
       "    <tr>\n",
       "      <th>4</th>\n",
       "      <td>1</td>\n",
       "      <td>0</td>\n",
       "      <td>0</td>\n",
       "    </tr>\n",
       "  </tbody>\n",
       "</table>\n",
       "</div>"
      ],
      "text/plain": [
       "   Commercial  House  Others\n",
       "0           1      0       0\n",
       "1           1      0       0\n",
       "2           1      0       0\n",
       "3           0      0       1\n",
       "4           1      0       0"
      ]
     },
     "execution_count": 46,
     "metadata": {},
     "output_type": "execute_result"
    }
   ],
   "source": [
    "df2=pd.get_dummies(data['BUILDTYPE'])\n",
    "df2.head()"
   ]
  },
  {
   "cell_type": "markdown",
   "id": "6041ef88",
   "metadata": {},
   "source": [
    "### Column: STREET"
   ]
  },
  {
   "cell_type": "code",
   "execution_count": 47,
   "id": "e9b9581d",
   "metadata": {},
   "outputs": [
    {
     "data": {
      "text/html": [
       "<div>\n",
       "<style scoped>\n",
       "    .dataframe tbody tr th:only-of-type {\n",
       "        vertical-align: middle;\n",
       "    }\n",
       "\n",
       "    .dataframe tbody tr th {\n",
       "        vertical-align: top;\n",
       "    }\n",
       "\n",
       "    .dataframe thead th {\n",
       "        text-align: right;\n",
       "    }\n",
       "</style>\n",
       "<table border=\"1\" class=\"dataframe\">\n",
       "  <thead>\n",
       "    <tr style=\"text-align: right;\">\n",
       "      <th></th>\n",
       "      <th>Gravel</th>\n",
       "      <th>No Access</th>\n",
       "      <th>Paved</th>\n",
       "    </tr>\n",
       "  </thead>\n",
       "  <tbody>\n",
       "    <tr>\n",
       "      <th>0</th>\n",
       "      <td>0</td>\n",
       "      <td>0</td>\n",
       "      <td>1</td>\n",
       "    </tr>\n",
       "    <tr>\n",
       "      <th>1</th>\n",
       "      <td>1</td>\n",
       "      <td>0</td>\n",
       "      <td>0</td>\n",
       "    </tr>\n",
       "    <tr>\n",
       "      <th>2</th>\n",
       "      <td>1</td>\n",
       "      <td>0</td>\n",
       "      <td>0</td>\n",
       "    </tr>\n",
       "    <tr>\n",
       "      <th>3</th>\n",
       "      <td>1</td>\n",
       "      <td>0</td>\n",
       "      <td>0</td>\n",
       "    </tr>\n",
       "    <tr>\n",
       "      <th>4</th>\n",
       "      <td>0</td>\n",
       "      <td>1</td>\n",
       "      <td>0</td>\n",
       "    </tr>\n",
       "  </tbody>\n",
       "</table>\n",
       "</div>"
      ],
      "text/plain": [
       "   Gravel  No Access  Paved\n",
       "0       0          0      1\n",
       "1       1          0      0\n",
       "2       1          0      0\n",
       "3       1          0      0\n",
       "4       0          1      0"
      ]
     },
     "execution_count": 47,
     "metadata": {},
     "output_type": "execute_result"
    }
   ],
   "source": [
    "df3=pd.get_dummies(data['STREET'])\n",
    "df3.head()"
   ]
  },
  {
   "cell_type": "code",
   "execution_count": 48,
   "id": "10669736",
   "metadata": {},
   "outputs": [
    {
     "data": {
      "text/html": [
       "<div>\n",
       "<style scoped>\n",
       "    .dataframe tbody tr th:only-of-type {\n",
       "        vertical-align: middle;\n",
       "    }\n",
       "\n",
       "    .dataframe tbody tr th {\n",
       "        vertical-align: top;\n",
       "    }\n",
       "\n",
       "    .dataframe thead th {\n",
       "        text-align: right;\n",
       "    }\n",
       "</style>\n",
       "<table border=\"1\" class=\"dataframe\">\n",
       "  <thead>\n",
       "    <tr style=\"text-align: right;\">\n",
       "      <th></th>\n",
       "      <th>INT_SQFT</th>\n",
       "      <th>DIST_MAINROAD</th>\n",
       "      <th>N_BEDROOM</th>\n",
       "      <th>N_BATHROOM</th>\n",
       "      <th>PARK_FACIL</th>\n",
       "      <th>SALES_PRICE</th>\n",
       "    </tr>\n",
       "  </thead>\n",
       "  <tbody>\n",
       "    <tr>\n",
       "      <th>0</th>\n",
       "      <td>1004</td>\n",
       "      <td>131</td>\n",
       "      <td>1</td>\n",
       "      <td>1</td>\n",
       "      <td>1</td>\n",
       "      <td>7600000</td>\n",
       "    </tr>\n",
       "    <tr>\n",
       "      <th>1</th>\n",
       "      <td>1986</td>\n",
       "      <td>26</td>\n",
       "      <td>2</td>\n",
       "      <td>1</td>\n",
       "      <td>0</td>\n",
       "      <td>21717770</td>\n",
       "    </tr>\n",
       "    <tr>\n",
       "      <th>2</th>\n",
       "      <td>909</td>\n",
       "      <td>70</td>\n",
       "      <td>1</td>\n",
       "      <td>1</td>\n",
       "      <td>1</td>\n",
       "      <td>13159200</td>\n",
       "    </tr>\n",
       "    <tr>\n",
       "      <th>3</th>\n",
       "      <td>1226</td>\n",
       "      <td>84</td>\n",
       "      <td>1</td>\n",
       "      <td>1</td>\n",
       "      <td>1</td>\n",
       "      <td>7406250</td>\n",
       "    </tr>\n",
       "    <tr>\n",
       "      <th>4</th>\n",
       "      <td>1220</td>\n",
       "      <td>36</td>\n",
       "      <td>2</td>\n",
       "      <td>1</td>\n",
       "      <td>0</td>\n",
       "      <td>12394750</td>\n",
       "    </tr>\n",
       "  </tbody>\n",
       "</table>\n",
       "</div>"
      ],
      "text/plain": [
       "   INT_SQFT  DIST_MAINROAD  N_BEDROOM  N_BATHROOM  PARK_FACIL  SALES_PRICE\n",
       "0      1004            131          1           1           1      7600000\n",
       "1      1986             26          2           1           0     21717770\n",
       "2       909             70          1           1           1     13159200\n",
       "3      1226             84          1           1           1      7406250\n",
       "4      1220             36          2           1           0     12394750"
      ]
     },
     "execution_count": 48,
     "metadata": {},
     "output_type": "execute_result"
    }
   ],
   "source": [
    "df4=data.iloc[:,[1,2,3,4,5,8]]\n",
    "df4.head()"
   ]
  },
  {
   "cell_type": "code",
   "execution_count": 49,
   "id": "f50c0624",
   "metadata": {},
   "outputs": [
    {
     "data": {
      "text/html": [
       "<div>\n",
       "<style scoped>\n",
       "    .dataframe tbody tr th:only-of-type {\n",
       "        vertical-align: middle;\n",
       "    }\n",
       "\n",
       "    .dataframe tbody tr th {\n",
       "        vertical-align: top;\n",
       "    }\n",
       "\n",
       "    .dataframe thead th {\n",
       "        text-align: right;\n",
       "    }\n",
       "</style>\n",
       "<table border=\"1\" class=\"dataframe\">\n",
       "  <thead>\n",
       "    <tr style=\"text-align: right;\">\n",
       "      <th></th>\n",
       "      <th>Adyar</th>\n",
       "      <th>Anna Nagar</th>\n",
       "      <th>Chrompet</th>\n",
       "      <th>KK Nagar</th>\n",
       "      <th>Karapakkam</th>\n",
       "      <th>T Nagar</th>\n",
       "      <th>Velachery</th>\n",
       "      <th>INT_SQFT</th>\n",
       "      <th>DIST_MAINROAD</th>\n",
       "      <th>N_BEDROOM</th>\n",
       "      <th>N_BATHROOM</th>\n",
       "      <th>PARK_FACIL</th>\n",
       "      <th>SALES_PRICE</th>\n",
       "      <th>Commercial</th>\n",
       "      <th>House</th>\n",
       "      <th>Others</th>\n",
       "      <th>Gravel</th>\n",
       "      <th>No Access</th>\n",
       "      <th>Paved</th>\n",
       "    </tr>\n",
       "  </thead>\n",
       "  <tbody>\n",
       "    <tr>\n",
       "      <th>0</th>\n",
       "      <td>0</td>\n",
       "      <td>0</td>\n",
       "      <td>0</td>\n",
       "      <td>0</td>\n",
       "      <td>1</td>\n",
       "      <td>0</td>\n",
       "      <td>0</td>\n",
       "      <td>1004</td>\n",
       "      <td>131</td>\n",
       "      <td>1</td>\n",
       "      <td>1</td>\n",
       "      <td>1</td>\n",
       "      <td>7600000</td>\n",
       "      <td>1</td>\n",
       "      <td>0</td>\n",
       "      <td>0</td>\n",
       "      <td>0</td>\n",
       "      <td>0</td>\n",
       "      <td>1</td>\n",
       "    </tr>\n",
       "    <tr>\n",
       "      <th>1</th>\n",
       "      <td>0</td>\n",
       "      <td>1</td>\n",
       "      <td>0</td>\n",
       "      <td>0</td>\n",
       "      <td>0</td>\n",
       "      <td>0</td>\n",
       "      <td>0</td>\n",
       "      <td>1986</td>\n",
       "      <td>26</td>\n",
       "      <td>2</td>\n",
       "      <td>1</td>\n",
       "      <td>0</td>\n",
       "      <td>21717770</td>\n",
       "      <td>1</td>\n",
       "      <td>0</td>\n",
       "      <td>0</td>\n",
       "      <td>1</td>\n",
       "      <td>0</td>\n",
       "      <td>0</td>\n",
       "    </tr>\n",
       "    <tr>\n",
       "      <th>2</th>\n",
       "      <td>1</td>\n",
       "      <td>0</td>\n",
       "      <td>0</td>\n",
       "      <td>0</td>\n",
       "      <td>0</td>\n",
       "      <td>0</td>\n",
       "      <td>0</td>\n",
       "      <td>909</td>\n",
       "      <td>70</td>\n",
       "      <td>1</td>\n",
       "      <td>1</td>\n",
       "      <td>1</td>\n",
       "      <td>13159200</td>\n",
       "      <td>1</td>\n",
       "      <td>0</td>\n",
       "      <td>0</td>\n",
       "      <td>1</td>\n",
       "      <td>0</td>\n",
       "      <td>0</td>\n",
       "    </tr>\n",
       "    <tr>\n",
       "      <th>3</th>\n",
       "      <td>0</td>\n",
       "      <td>0</td>\n",
       "      <td>0</td>\n",
       "      <td>0</td>\n",
       "      <td>1</td>\n",
       "      <td>0</td>\n",
       "      <td>0</td>\n",
       "      <td>1226</td>\n",
       "      <td>84</td>\n",
       "      <td>1</td>\n",
       "      <td>1</td>\n",
       "      <td>1</td>\n",
       "      <td>7406250</td>\n",
       "      <td>0</td>\n",
       "      <td>0</td>\n",
       "      <td>1</td>\n",
       "      <td>1</td>\n",
       "      <td>0</td>\n",
       "      <td>0</td>\n",
       "    </tr>\n",
       "    <tr>\n",
       "      <th>4</th>\n",
       "      <td>0</td>\n",
       "      <td>0</td>\n",
       "      <td>1</td>\n",
       "      <td>0</td>\n",
       "      <td>0</td>\n",
       "      <td>0</td>\n",
       "      <td>0</td>\n",
       "      <td>1220</td>\n",
       "      <td>36</td>\n",
       "      <td>2</td>\n",
       "      <td>1</td>\n",
       "      <td>0</td>\n",
       "      <td>12394750</td>\n",
       "      <td>1</td>\n",
       "      <td>0</td>\n",
       "      <td>0</td>\n",
       "      <td>0</td>\n",
       "      <td>1</td>\n",
       "      <td>0</td>\n",
       "    </tr>\n",
       "  </tbody>\n",
       "</table>\n",
       "</div>"
      ],
      "text/plain": [
       "   Adyar  Anna Nagar  Chrompet  KK Nagar  Karapakkam  T Nagar  Velachery  \\\n",
       "0      0           0         0         0           1        0          0   \n",
       "1      0           1         0         0           0        0          0   \n",
       "2      1           0         0         0           0        0          0   \n",
       "3      0           0         0         0           1        0          0   \n",
       "4      0           0         1         0           0        0          0   \n",
       "\n",
       "   INT_SQFT  DIST_MAINROAD  N_BEDROOM  N_BATHROOM  PARK_FACIL  SALES_PRICE  \\\n",
       "0      1004            131          1           1           1      7600000   \n",
       "1      1986             26          2           1           0     21717770   \n",
       "2       909             70          1           1           1     13159200   \n",
       "3      1226             84          1           1           1      7406250   \n",
       "4      1220             36          2           1           0     12394750   \n",
       "\n",
       "   Commercial  House  Others  Gravel  No Access  Paved  \n",
       "0           1      0       0       0          0      1  \n",
       "1           1      0       0       1          0      0  \n",
       "2           1      0       0       1          0      0  \n",
       "3           0      0       1       1          0      0  \n",
       "4           1      0       0       0          1      0  "
      ]
     },
     "execution_count": 49,
     "metadata": {},
     "output_type": "execute_result"
    }
   ],
   "source": [
    "data=pd.concat([df1,df4,df2,df3],axis='columns')\n",
    "data.head()"
   ]
  },
  {
   "cell_type": "markdown",
   "id": "3c270ee2",
   "metadata": {},
   "source": [
    "# Model Creation:"
   ]
  },
  {
   "cell_type": "markdown",
   "id": "f681b46e",
   "metadata": {},
   "source": [
    "## X and Y declaration"
   ]
  },
  {
   "cell_type": "code",
   "execution_count": 50,
   "id": "0439f84a",
   "metadata": {},
   "outputs": [
    {
     "data": {
      "text/html": [
       "<div>\n",
       "<style scoped>\n",
       "    .dataframe tbody tr th:only-of-type {\n",
       "        vertical-align: middle;\n",
       "    }\n",
       "\n",
       "    .dataframe tbody tr th {\n",
       "        vertical-align: top;\n",
       "    }\n",
       "\n",
       "    .dataframe thead th {\n",
       "        text-align: right;\n",
       "    }\n",
       "</style>\n",
       "<table border=\"1\" class=\"dataframe\">\n",
       "  <thead>\n",
       "    <tr style=\"text-align: right;\">\n",
       "      <th></th>\n",
       "      <th>Adyar</th>\n",
       "      <th>Anna Nagar</th>\n",
       "      <th>Chrompet</th>\n",
       "      <th>KK Nagar</th>\n",
       "      <th>Karapakkam</th>\n",
       "      <th>T Nagar</th>\n",
       "      <th>Velachery</th>\n",
       "      <th>INT_SQFT</th>\n",
       "      <th>DIST_MAINROAD</th>\n",
       "      <th>N_BEDROOM</th>\n",
       "      <th>N_BATHROOM</th>\n",
       "      <th>PARK_FACIL</th>\n",
       "      <th>Commercial</th>\n",
       "      <th>House</th>\n",
       "      <th>Others</th>\n",
       "      <th>Gravel</th>\n",
       "      <th>No Access</th>\n",
       "      <th>Paved</th>\n",
       "    </tr>\n",
       "  </thead>\n",
       "  <tbody>\n",
       "    <tr>\n",
       "      <th>0</th>\n",
       "      <td>0</td>\n",
       "      <td>0</td>\n",
       "      <td>0</td>\n",
       "      <td>0</td>\n",
       "      <td>1</td>\n",
       "      <td>0</td>\n",
       "      <td>0</td>\n",
       "      <td>1004</td>\n",
       "      <td>131</td>\n",
       "      <td>1</td>\n",
       "      <td>1</td>\n",
       "      <td>1</td>\n",
       "      <td>1</td>\n",
       "      <td>0</td>\n",
       "      <td>0</td>\n",
       "      <td>0</td>\n",
       "      <td>0</td>\n",
       "      <td>1</td>\n",
       "    </tr>\n",
       "    <tr>\n",
       "      <th>1</th>\n",
       "      <td>0</td>\n",
       "      <td>1</td>\n",
       "      <td>0</td>\n",
       "      <td>0</td>\n",
       "      <td>0</td>\n",
       "      <td>0</td>\n",
       "      <td>0</td>\n",
       "      <td>1986</td>\n",
       "      <td>26</td>\n",
       "      <td>2</td>\n",
       "      <td>1</td>\n",
       "      <td>0</td>\n",
       "      <td>1</td>\n",
       "      <td>0</td>\n",
       "      <td>0</td>\n",
       "      <td>1</td>\n",
       "      <td>0</td>\n",
       "      <td>0</td>\n",
       "    </tr>\n",
       "    <tr>\n",
       "      <th>2</th>\n",
       "      <td>1</td>\n",
       "      <td>0</td>\n",
       "      <td>0</td>\n",
       "      <td>0</td>\n",
       "      <td>0</td>\n",
       "      <td>0</td>\n",
       "      <td>0</td>\n",
       "      <td>909</td>\n",
       "      <td>70</td>\n",
       "      <td>1</td>\n",
       "      <td>1</td>\n",
       "      <td>1</td>\n",
       "      <td>1</td>\n",
       "      <td>0</td>\n",
       "      <td>0</td>\n",
       "      <td>1</td>\n",
       "      <td>0</td>\n",
       "      <td>0</td>\n",
       "    </tr>\n",
       "    <tr>\n",
       "      <th>3</th>\n",
       "      <td>0</td>\n",
       "      <td>0</td>\n",
       "      <td>0</td>\n",
       "      <td>0</td>\n",
       "      <td>1</td>\n",
       "      <td>0</td>\n",
       "      <td>0</td>\n",
       "      <td>1226</td>\n",
       "      <td>84</td>\n",
       "      <td>1</td>\n",
       "      <td>1</td>\n",
       "      <td>1</td>\n",
       "      <td>0</td>\n",
       "      <td>0</td>\n",
       "      <td>1</td>\n",
       "      <td>1</td>\n",
       "      <td>0</td>\n",
       "      <td>0</td>\n",
       "    </tr>\n",
       "    <tr>\n",
       "      <th>4</th>\n",
       "      <td>0</td>\n",
       "      <td>0</td>\n",
       "      <td>1</td>\n",
       "      <td>0</td>\n",
       "      <td>0</td>\n",
       "      <td>0</td>\n",
       "      <td>0</td>\n",
       "      <td>1220</td>\n",
       "      <td>36</td>\n",
       "      <td>2</td>\n",
       "      <td>1</td>\n",
       "      <td>0</td>\n",
       "      <td>1</td>\n",
       "      <td>0</td>\n",
       "      <td>0</td>\n",
       "      <td>0</td>\n",
       "      <td>1</td>\n",
       "      <td>0</td>\n",
       "    </tr>\n",
       "  </tbody>\n",
       "</table>\n",
       "</div>"
      ],
      "text/plain": [
       "   Adyar  Anna Nagar  Chrompet  KK Nagar  Karapakkam  T Nagar  Velachery  \\\n",
       "0      0           0         0         0           1        0          0   \n",
       "1      0           1         0         0           0        0          0   \n",
       "2      1           0         0         0           0        0          0   \n",
       "3      0           0         0         0           1        0          0   \n",
       "4      0           0         1         0           0        0          0   \n",
       "\n",
       "   INT_SQFT  DIST_MAINROAD  N_BEDROOM  N_BATHROOM  PARK_FACIL  Commercial  \\\n",
       "0      1004            131          1           1           1           1   \n",
       "1      1986             26          2           1           0           1   \n",
       "2       909             70          1           1           1           1   \n",
       "3      1226             84          1           1           1           0   \n",
       "4      1220             36          2           1           0           1   \n",
       "\n",
       "   House  Others  Gravel  No Access  Paved  \n",
       "0      0       0       0          0      1  \n",
       "1      0       0       1          0      0  \n",
       "2      0       0       1          0      0  \n",
       "3      0       1       1          0      0  \n",
       "4      0       0       0          1      0  "
      ]
     },
     "execution_count": 50,
     "metadata": {},
     "output_type": "execute_result"
    }
   ],
   "source": [
    "x=data.drop(['SALES_PRICE'],axis='columns')\n",
    "x.head()"
   ]
  },
  {
   "cell_type": "code",
   "execution_count": 51,
   "id": "457c24d8",
   "metadata": {},
   "outputs": [
    {
     "data": {
      "text/plain": [
       "0     7600000\n",
       "1    21717770\n",
       "2    13159200\n",
       "3     7406250\n",
       "4    12394750\n",
       "Name: SALES_PRICE, dtype: int64"
      ]
     },
     "execution_count": 51,
     "metadata": {},
     "output_type": "execute_result"
    }
   ],
   "source": [
    "y=data['SALES_PRICE']\n",
    "y.head()"
   ]
  },
  {
   "cell_type": "markdown",
   "id": "3060a385",
   "metadata": {},
   "source": [
    "## Splitting the dataset into training and testing data"
   ]
  },
  {
   "cell_type": "code",
   "execution_count": 52,
   "id": "5e19db93",
   "metadata": {},
   "outputs": [],
   "source": [
    "from sklearn.model_selection import train_test_split as tts\n",
    "\n",
    "xtrain,xtest,ytrain,ytest=tts(x,y,test_size=0.2,random_state=45)"
   ]
  },
  {
   "cell_type": "markdown",
   "id": "af5498b9",
   "metadata": {},
   "source": [
    "## creating the model"
   ]
  },
  {
   "cell_type": "code",
   "execution_count": 53,
   "id": "2d8fa490",
   "metadata": {},
   "outputs": [
    {
     "data": {
      "text/plain": [
       "LinearRegression()"
      ]
     },
     "execution_count": 53,
     "metadata": {},
     "output_type": "execute_result"
    }
   ],
   "source": [
    "from sklearn.linear_model import LinearRegression\n",
    "\n",
    "model=LinearRegression()\n",
    "\n",
    "model.fit(xtrain,ytrain)"
   ]
  },
  {
   "cell_type": "markdown",
   "id": "1b8b9041",
   "metadata": {},
   "source": [
    "## Predicting the price"
   ]
  },
  {
   "cell_type": "code",
   "execution_count": 54,
   "id": "0d36286a",
   "metadata": {},
   "outputs": [],
   "source": [
    "ypredict=model.predict(xtest)"
   ]
  },
  {
   "cell_type": "markdown",
   "id": "8e2de526",
   "metadata": {},
   "source": [
    "## accuracy score"
   ]
  },
  {
   "cell_type": "code",
   "execution_count": 55,
   "id": "114c58ca",
   "metadata": {},
   "outputs": [
    {
     "data": {
      "text/plain": [
       "0.9086289331756695"
      ]
     },
     "execution_count": 55,
     "metadata": {},
     "output_type": "execute_result"
    }
   ],
   "source": [
    "model.score(xtest,ytest)"
   ]
  },
  {
   "cell_type": "markdown",
   "id": "aa693d64",
   "metadata": {},
   "source": [
    "## Comparing actual vs predicted"
   ]
  },
  {
   "cell_type": "code",
   "execution_count": 56,
   "id": "5db057e7",
   "metadata": {},
   "outputs": [
    {
     "name": "stdout",
     "output_type": "stream",
     "text": [
      "4140    12144500\n",
      "3184    12149050\n",
      "2813    20938520\n",
      "5940    10842880\n",
      "4285     8602800\n",
      "          ...   \n",
      "5366    10199620\n",
      "4950     6583500\n",
      "1160     2476375\n",
      "5823    13263370\n",
      "453     12146740\n",
      "Name: SALES_PRICE, Length: 1229, dtype: int64\n"
     ]
    }
   ],
   "source": [
    "print(ytest)"
   ]
  },
  {
   "cell_type": "code",
   "execution_count": 57,
   "id": "2e1b747c",
   "metadata": {
    "scrolled": true
   },
   "outputs": [
    {
     "name": "stdout",
     "output_type": "stream",
     "text": [
      "[11704470.6578006  13241467.96632484 18539626.98271959 ...\n",
      "  3123536.67484207 14257896.67441119 13043226.83809668]\n"
     ]
    }
   ],
   "source": [
    "print(ypredict)"
   ]
  },
  {
   "cell_type": "markdown",
   "id": "092b6448",
   "metadata": {},
   "source": [
    "#### Now let us plot the comparison of Actual and Predicted values."
   ]
  },
  {
   "cell_type": "code",
   "execution_count": 58,
   "id": "3336e640",
   "metadata": {},
   "outputs": [
    {
     "data": {
      "text/html": [
       "<div>\n",
       "<style scoped>\n",
       "    .dataframe tbody tr th:only-of-type {\n",
       "        vertical-align: middle;\n",
       "    }\n",
       "\n",
       "    .dataframe tbody tr th {\n",
       "        vertical-align: top;\n",
       "    }\n",
       "\n",
       "    .dataframe thead th {\n",
       "        text-align: right;\n",
       "    }\n",
       "</style>\n",
       "<table border=\"1\" class=\"dataframe\">\n",
       "  <thead>\n",
       "    <tr style=\"text-align: right;\">\n",
       "      <th></th>\n",
       "      <th>Actual_value</th>\n",
       "      <th>Predicted_value</th>\n",
       "    </tr>\n",
       "  </thead>\n",
       "  <tbody>\n",
       "    <tr>\n",
       "      <th>4140</th>\n",
       "      <td>12144500</td>\n",
       "      <td>1.170447e+07</td>\n",
       "    </tr>\n",
       "    <tr>\n",
       "      <th>3184</th>\n",
       "      <td>12149050</td>\n",
       "      <td>1.324147e+07</td>\n",
       "    </tr>\n",
       "    <tr>\n",
       "      <th>2813</th>\n",
       "      <td>20938520</td>\n",
       "      <td>1.853963e+07</td>\n",
       "    </tr>\n",
       "    <tr>\n",
       "      <th>5940</th>\n",
       "      <td>10842880</td>\n",
       "      <td>1.012195e+07</td>\n",
       "    </tr>\n",
       "    <tr>\n",
       "      <th>4285</th>\n",
       "      <td>8602800</td>\n",
       "      <td>9.318799e+06</td>\n",
       "    </tr>\n",
       "  </tbody>\n",
       "</table>\n",
       "</div>"
      ],
      "text/plain": [
       "      Actual_value  Predicted_value\n",
       "4140      12144500     1.170447e+07\n",
       "3184      12149050     1.324147e+07\n",
       "2813      20938520     1.853963e+07\n",
       "5940      10842880     1.012195e+07\n",
       "4285       8602800     9.318799e+06"
      ]
     },
     "execution_count": 58,
     "metadata": {},
     "output_type": "execute_result"
    }
   ],
   "source": [
    "comp_tab=pd.DataFrame({'Actual_value':ytest,'Predicted_value':ypredict})\n",
    "comp_tab.head()"
   ]
  },
  {
   "cell_type": "code",
   "execution_count": 59,
   "id": "dff62dad",
   "metadata": {},
   "outputs": [],
   "source": [
    "def comp_plot(df):\n",
    "    df.plot(kind='bar',figsize=(20,5))\n",
    "    plt.grid(True)\n",
    "    plt.show()"
   ]
  },
  {
   "cell_type": "code",
   "execution_count": 60,
   "id": "f082f804",
   "metadata": {},
   "outputs": [
    {
     "data": {
      "image/png": "[encoded data removed]",
      "text/plain": [
       "<Figure size 2000x500 with 1 Axes>"
      ]
     },
     "metadata": {},
     "output_type": "display_data"
    }
   ],
   "source": [
    "comp_plot(comp_tab.head(20))"
   ]
  },
  {
   "cell_type": "code",
   "execution_count": 61,
   "id": "9646c295",
   "metadata": {},
   "outputs": [
    {
     "data": {
      "image/png": "[encoded data removed]",
      "text/plain": [
       "<Figure size 2000x500 with 1 Axes>"
      ]
     },
     "metadata": {},
     "output_type": "display_data"
    }
   ],
   "source": [
    "comp_plot(comp_tab.tail(20))"
   ]
  },
  {
   "cell_type": "markdown",
   "id": "1675b3a0",
   "metadata": {},
   "source": [
    "# Prediction"
   ]
  },
  {
   "cell_type": "code",
   "execution_count": 62,
   "id": "b20a5c29",
   "metadata": {},
   "outputs": [
    {
     "data": {
      "text/plain": [
       "Index(['Adyar', 'Anna Nagar', 'Chrompet', 'KK Nagar', 'Karapakkam', 'T Nagar',\n",
       "       'Velachery', 'INT_SQFT', 'DIST_MAINROAD', 'N_BEDROOM', 'N_BATHROOM',\n",
       "       'PARK_FACIL', 'Commercial', 'House', 'Others', 'Gravel', 'No Access',\n",
       "       'Paved'],\n",
       "      dtype='object')"
      ]
     },
     "execution_count": 62,
     "metadata": {},
     "output_type": "execute_result"
    }
   ],
   "source": [
    "x.columns"
   ]
  },
  {
   "cell_type": "code",
   "execution_count": 63,
   "id": "e45b01f2",
   "metadata": {},
   "outputs": [],
   "source": [
    "def price_prediction(area,sqft,dist,bed,bath,park,buildtype,street):\n",
    "    \n",
    "    area_index=np.where(x.columns==area)[0][0]\n",
    "    buildtype_index=np.where(x.columns==buildtype)[0][0]\n",
    "    street_index=np.where(x.columns==street)[0][0]\n",
    "    \n",
    "    a=np.zeros(len(x.columns))\n",
    "    \n",
    "    a[7]=sqft\n",
    "    a[8]=dist\n",
    "    a[9]=bed\n",
    "    a[10]=bath\n",
    "    a[11]=park\n",
    "    \n",
    "    if area_index>=0:\n",
    "        a[area_index]=1\n",
    "        \n",
    "    if buildtype_index>=0:\n",
    "        a[buildtype_index]=1\n",
    "        \n",
    "    if street_index>=0:\n",
    "        a[street_index]=1\n",
    "        \n",
    "    return model.predict([a])[0]"
   ]
  },
  {
   "cell_type": "code",
   "execution_count": 64,
   "id": "0d33fef1",
   "metadata": {},
   "outputs": [
    {
     "name": "stderr",
     "output_type": "stream",
     "text": [
      "C:\\ProgramData\\Anaconda3\\lib\\site-packages\\sklearn\\base.py:450: UserWarning: X does not have valid feature names, but LinearRegression was fitted with feature names\n",
      "  warnings.warn(\n"
     ]
    },
    {
     "data": {
      "text/plain": [
       "10461864.40129795"
      ]
     },
     "execution_count": 64,
     "metadata": {},
     "output_type": "execute_result"
    }
   ],
   "source": [
    "price_prediction('Adyar',1500,120,2,2,1,'House','Paved')"
   ]
  },
  {
   "cell_type": "code",
   "execution_count": 65,
   "id": "a837a00e",
   "metadata": {},
   "outputs": [
    {
     "name": "stderr",
     "output_type": "stream",
     "text": [
      "C:\\ProgramData\\Anaconda3\\lib\\site-packages\\sklearn\\base.py:450: UserWarning: X does not have valid feature names, but LinearRegression was fitted with feature names\n",
      "  warnings.warn(\n"
     ]
    },
    {
     "data": {
      "text/plain": [
       "12557574.942647718"
      ]
     },
     "execution_count": 65,
     "metadata": {},
     "output_type": "execute_result"
    }
   ],
   "source": [
    "price_prediction('Chrompet',2000,50,2,1,0,'House','Paved')"
   ]
  },
  {
   "cell_type": "code",
   "execution_count": null,
   "id": "4ba7f200",
   "metadata": {},
   "outputs": [],
   "source": []
  }
 ],
 "metadata": {
  "kernelspec": {
   "display_name": "Python 3 (ipykernel)",
   "language": "python",
   "name": "python3"
  },
  "language_info": {
   "codemirror_mode": {
    "name": "ipython",
    "version": 3
   },
   "file_extension": ".py",
   "mimetype": "text/x-python",
   "name": "python",
   "nbconvert_exporter": "python",
   "pygments_lexer": "ipython3",
   "version": "3.9.13"
  }
 },
 "nbformat": 4,
 "nbformat_minor": 5
}
